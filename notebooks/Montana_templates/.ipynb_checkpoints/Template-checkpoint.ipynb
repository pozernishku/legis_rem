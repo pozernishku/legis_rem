{
 "cells": [
  {
   "cell_type": "code",
   "execution_count": 1,
   "metadata": {
    "collapsed": true
   },
   "outputs": [],
   "source": [
    "import cgi\n",
    "import os\n",
    "import jinja2\n",
    "import random\n",
    "from random import randrange\n",
    "from random import randint\n",
    "from datetime import timedelta\n",
    "import datetime"
   ]
  },
  {
   "cell_type": "code",
   "execution_count": 2,
   "metadata": {},
   "outputs": [],
   "source": [
    "os.makedirs('./templates/', exist_ok=True)\n",
    "os.makedirs('./output_docs/', exist_ok=True)\n",
    "template_dir = './templates/'\n",
    "output_docs_dir = './output_docs/'\n",
    "jinja_env = jinja2.Environment(loader=jinja2.FileSystemLoader(template_dir))"
   ]
  },
  {
   "cell_type": "code",
   "execution_count": 3,
   "metadata": {},
   "outputs": [],
   "source": [
    "template = jinja_env.get_template('template_mt.txt')"
   ]
  },
  {
   "cell_type": "code",
   "execution_count": 4,
   "metadata": {},
   "outputs": [],
   "source": [
    "names = [\n",
    "\"AAHP-HIAA\",\n",
    "\"Al Asher, Pierre, Administrator of SDRS\",\n",
    "\"Al Asher, Pierre, Administrator, SDRS\",\n",
    "\"Al Asher, Pierre, Dir. of State Retirement\",\n",
    "\"Al Asher, Pierre, SDRS\",\n",
    "\"Al Asher, SD Retirement System (SDRS)\",\n",
    "\"Al Asher, SDRS\",\n",
    "\"Al Fjeldheim, SDCCA\",\n",
    "\"Al Gregg, Dakota Towing, Brookings\",\n",
    "\"Al Grogg, Dakota Towing, Brookings\",\n",
    "\"Al Schroeder, Assn of Towns and Townships\",\n",
    "\"Al Thoreson, Edgemont Schools\",\n",
    "\"Alan Hanks, City of Rapid City, RC\",\n",
    "\"Alan Ruhlman, Human Resources Director, Aberdeen\",\n",
    "\"Albert Van Overmeer, Lennox School District\",\n",
    "\"Alfred Reuer, Walworth County Commissioner\",\n",
    "\"Alice Christensen\",\n",
    "\"Alice Claggett, Mayor, City of Mitchell\",\n",
    "\"Alison Haugo, Elk Point, Valley Bank\",\n",
    "\"Allen Aden, Pierre Chief of Police\",\n",
    "\"Allen Aden, Pierre Police Chief\",\n",
    "\"Allen E. Nord, MD., R. City\",\n",
    "\"Allen Nord, MD, lobbyist, SD Association of Family Physicians, Rapid City\",\n",
    "\"Amber L. Fischer, Brookings\",\n",
    "\"Andrea Kannegieter, Huron CVB\",\n",
    "\"Andy Gerlach, Department of Military &amp; Veterans Affairs\",\n",
    "\"Andy Gerlach, Department of Military and Veterans Affairs\",\n",
    "\"Andy Gerlach, Department of Military and Veterans Affairs,\",\n",
    "\"Andy Gerlach, Department of Veterans and Military Affairs\",\n",
    "\"Andy Gerlach, SD Department of Military and Veteran's Affairs\",\n",
    "\"Andy MacRae, Philip Morris Inc.\",\n",
    "\"Angela Ehlers, SD Assn of Conservation Districts\",\n",
    "\"Angela Ehlers, SD Assn. Of Conservation District\",\n",
    "\"Angela Ehlers, SD Assn. Of Conservation Districts\",\n",
    "\"Angela Ehlers, lobbyist, SD Association of Conservation Districts\",\n",
    "\"Angela Ehlers, lobbyist, SD Association of Conservation Districts, Pierre\",\n",
    "\"Angella Van Scharael, Bureau of Finance &amp; Management\",\n",
    "\"Angie King, Northern Hills CASA\",\n",
    "\"Anisah David,Self, Bushnell\",\n",
    "\"Anita Fuoss, Jones Co. Commissioners, Murdo\",\n",
    "\"Ann Holzhauser (SD Department of Social Services)\",\n",
    "]\n",
    "\n",
    "for numb in range(5): # output docs count can be changed here.\n",
    "    session = random.choice(list(range(60, 66)))\n",
    "\n",
    "    startdate = datetime.date(random.choice(list(range(2007, 2017))),1,1)\n",
    "    date = startdate + datetime.timedelta(randint(1,365))\n",
    "    date = date.strftime('%B %-d, %Y')\n",
    "\n",
    "    rand_names = set()\n",
    "    for r in range(randint(10,30)):\n",
    "        rand_names.add(random.choice(names))\n",
    "    rand_names = '\\n'.join(rand_names)\n",
    "    \n",
    "    with open(output_docs_dir + 'mt_doc_' + str(numb) + '.txt', 'w') as o:\n",
    "        o.write(template.render(session=session, date=date, names=rand_names))"
   ]
  },
  {
   "cell_type": "code",
   "execution_count": null,
   "metadata": {
    "collapsed": true
   },
   "outputs": [],
   "source": []
  }
 ],
 "metadata": {
  "kernelspec": {
   "display_name": "Python 3",
   "language": "python",
   "name": "python3"
  },
  "language_info": {
   "codemirror_mode": {
    "name": "ipython",
    "version": 3
   },
   "file_extension": ".py",
   "mimetype": "text/x-python",
   "name": "python",
   "nbconvert_exporter": "python",
   "pygments_lexer": "ipython3",
   "version": "3.6.2"
  }
 },
 "nbformat": 4,
 "nbformat_minor": 2
}
