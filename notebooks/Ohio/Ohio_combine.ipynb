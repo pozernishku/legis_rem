{
 "cells": [
  {
   "cell_type": "code",
   "execution_count": 1,
   "metadata": {},
   "outputs": [
    {
     "ename": "ModuleNotFoundError",
     "evalue": "No module named 'read_data'",
     "output_type": "error",
     "traceback": [
      "\u001b[0;31m---------------------------------------------------------------------------\u001b[0m",
      "\u001b[0;31mModuleNotFoundError\u001b[0m                       Traceback (most recent call last)",
      "\u001b[0;32m<ipython-input-1-f50765dd85a2>\u001b[0m in \u001b[0;36m<module>\u001b[0;34m()\u001b[0m\n\u001b[1;32m      2\u001b[0m \u001b[0;32mimport\u001b[0m \u001b[0mio\u001b[0m\u001b[0;34m\u001b[0m\u001b[0m\n\u001b[1;32m      3\u001b[0m \u001b[0;32mimport\u001b[0m \u001b[0mcsv\u001b[0m\u001b[0;34m\u001b[0m\u001b[0m\n\u001b[0;32m----> 4\u001b[0;31m \u001b[0;32mfrom\u001b[0m \u001b[0mread_data\u001b[0m \u001b[0;32mimport\u001b[0m \u001b[0mconvert_pdf_to_txt\u001b[0m\u001b[0;34m\u001b[0m\u001b[0m\n\u001b[0m\u001b[1;32m      5\u001b[0m \u001b[0;32mfrom\u001b[0m \u001b[0mPIL\u001b[0m \u001b[0;32mimport\u001b[0m \u001b[0mImage\u001b[0m\u001b[0;34m\u001b[0m\u001b[0m\n\u001b[1;32m      6\u001b[0m \u001b[0;32mimport\u001b[0m \u001b[0mpytesseract\u001b[0m\u001b[0;34m\u001b[0m\u001b[0m\n",
      "\u001b[0;31mModuleNotFoundError\u001b[0m: No module named 'read_data'"
     ]
    }
   ],
   "source": [
    "import os\n",
    "import io\n",
    "import csv\n",
    "from read_data import convert_pdf_to_txt\n",
    "from PIL import Image\n",
    "import pytesseract\n",
    "from wand.image import Image as wi\n",
    "import hashlib\n"
   ]
  },
  {
   "cell_type": "code",
   "execution_count": null,
   "metadata": {
    "collapsed": true
   },
   "outputs": [],
   "source": [
    "files = os.listdir('/Users/zackushka/Downloads/ohio all unique files') [351:411] #[301:351]#[151:191] \n",
    "def filt(x):\n",
    "    if x == 'hb27_02_RCH_xml.pdf':\n",
    "        return 'hb27_02_RCH_xml'\n",
    "    elif x == 'hb28_02_RCH_xml.pdf':\n",
    "        return 'hb28_02_RCH_xml'\n",
    "    elif x == 'hb168_03_RH.pdf':\n",
    "        return 'hb168_03_RH'\n",
    "    else:\n",
    "        return x[:x.index('_')]\n",
    "    \n",
    "bills = list(map(filt, files))\n",
    "files = list(zip(files, bills))\n",
    "print(len(files))\n",
    "print(files)"
   ]
  },
  {
   "cell_type": "code",
   "execution_count": null,
   "metadata": {
    "collapsed": true
   },
   "outputs": [],
   "source": [
    "csv_list = []\n",
    "with open('ohio 2017.csv', newline='') as csvfile:\n",
    "    rows = csv.reader(csvfile)\n",
    "    for row in list(rows)[1:]:\n",
    "        csv_list.append([row[0]] + [row[5]] + [row[7]] + [row[11]] + [row[2].replace(',', '')])\n",
    "#     print(csv_list)"
   ]
  },
  {
   "cell_type": "code",
   "execution_count": null,
   "metadata": {
    "collapsed": true
   },
   "outputs": [],
   "source": [
    "for row in csv_list:\n",
    "    if row[0] and row[0] != 'none':\n",
    "        r = row[0].lower().replace(' ', '').replace('no.', '').replace('am.', '').replace('sub.', '').strip().replace('.','')\n",
    "        if r == '49':\n",
    "            r = 'hb49'\n",
    "        if 'hb27' in r.split(',') and 'hb27_02_RCH_xml' in row[3]:\n",
    "            r += ',hb27_02_RCH_xml'\n",
    "        if 'hb28' in r.split(',') and 'hb28_02_RCH_xml' in row[3]:\n",
    "            r += ',hb28_02_RCH_xml'\n",
    "        if 'hb168' in r.split(',') and 'hb168_03_RH' in row[3]:\n",
    "            r += ',hb168_03_RH'\n",
    "        row[0] = r\n",
    "#         print(row[0] )"
   ]
  },
  {
   "cell_type": "code",
   "execution_count": null,
   "metadata": {
    "collapsed": true
   },
   "outputs": [],
   "source": [
    "start = 1\n",
    "\n",
    "with open('out_ohio.csv', 'w', newline='') as fcsv:\n",
    "    for file in files:\n",
    "        org_stance, url, date = '', '', ''\n",
    "        \n",
    "        print('-->' + file[0])\n",
    "        \n",
    "        for row in csv_list:\n",
    "            if file[1] in row[0].split(','):\n",
    "                org_stance += row[1] + '(' + row[2] + ')' + '\\n'\n",
    "                url += row[3] + '\\n'\n",
    "                date += row[4] + '\\n'\n",
    "\n",
    "        with open('./ohio all unique files/' + file[0], 'rb') as f:\n",
    "            bfr = io.BufferedReader(f)\n",
    "            pdf_text = convert_pdf_to_txt(bfr) if file[0].strip()[-4:].lower() == '.pdf' else None # 'unsupported file'\n",
    "\n",
    "            # recognized text (OCR) from pdf\n",
    "            recognized_text = []\n",
    "            if pdf_text is not None and len(pdf_text.strip()) <= 50:\n",
    "                with wi(filename=response.url, resolution=200) as pdf:\n",
    "                    pdfImage = pdf.convert('jpeg')\n",
    "                    imageBlobs = []\n",
    "                    for img in pdfImage.sequence:\n",
    "                        with wi(image = img) as imgPage:\n",
    "                            imageBlobs.append(imgPage.make_blob('jpeg'))\n",
    "\n",
    "                for imgBlob in imageBlobs:\n",
    "                    im = Image.open(io.BytesIO(imgBlob))\n",
    "                    text = pytesseract.image_to_string(im, lang = 'eng')\n",
    "                    recognized_text.append(text)\n",
    "\n",
    "                recognized_text = '\\n\\n\\n'.join(recognized_text)\n",
    "\n",
    "            recognized_text = recognized_text if recognized_text else 'No Minutes Posted' # this is for add text to csv if recognized_text = []\n",
    "            pdf_text = pdf_text if pdf_text is not None and len(pdf_text.strip()) > 50 else recognized_text # None if pdf_text is None\n",
    "\n",
    "            url = url.split('\\n')\n",
    "            url = [u for u in url if file[0] in u][0]\n",
    "#             print(org_stance)\n",
    "#             print(url)\n",
    "#             print(file[1])\n",
    "#             print(date)\n",
    "\n",
    "            writer = csv.writer(fcsv)\n",
    "            if start:\n",
    "                writer.writerow(['text', 'org_stance', 'url', 'date', 'bill_name', 'md5', 'state', 'session', \n",
    "                                 'chamber', 'html', 'topic'])\n",
    "            start = 0\n",
    "\n",
    "            md5 = hashlib.md5(f.read()).hexdigest()\n",
    "            \n",
    "            writer.writerow([pdf_text, org_stance, url, date, file[1].upper(), md5, 'ohio', '2017', \n",
    "                             'House', '', '#TODO'])\n"
   ]
  },
  {
   "cell_type": "code",
   "execution_count": null,
   "metadata": {
    "collapsed": true
   },
   "outputs": [],
   "source": []
  },
  {
   "cell_type": "code",
   "execution_count": null,
   "metadata": {
    "collapsed": true
   },
   "outputs": [],
   "source": []
  },
  {
   "cell_type": "code",
   "execution_count": null,
   "metadata": {
    "collapsed": true,
    "scrolled": true
   },
   "outputs": [],
   "source": []
  },
  {
   "cell_type": "code",
   "execution_count": null,
   "metadata": {
    "collapsed": true
   },
   "outputs": [],
   "source": []
  },
  {
   "cell_type": "code",
   "execution_count": null,
   "metadata": {
    "collapsed": true
   },
   "outputs": [],
   "source": []
  },
  {
   "cell_type": "code",
   "execution_count": null,
   "metadata": {
    "collapsed": true
   },
   "outputs": [],
   "source": []
  },
  {
   "cell_type": "code",
   "execution_count": null,
   "metadata": {
    "collapsed": true
   },
   "outputs": [],
   "source": []
  },
  {
   "cell_type": "code",
   "execution_count": null,
   "metadata": {
    "collapsed": true
   },
   "outputs": [],
   "source": []
  },
  {
   "cell_type": "code",
   "execution_count": null,
   "metadata": {
    "collapsed": true
   },
   "outputs": [],
   "source": []
  },
  {
   "cell_type": "code",
   "execution_count": null,
   "metadata": {
    "collapsed": true
   },
   "outputs": [],
   "source": []
  },
  {
   "cell_type": "code",
   "execution_count": null,
   "metadata": {
    "collapsed": true
   },
   "outputs": [],
   "source": []
  },
  {
   "cell_type": "code",
   "execution_count": null,
   "metadata": {
    "collapsed": true
   },
   "outputs": [],
   "source": []
  },
  {
   "cell_type": "code",
   "execution_count": null,
   "metadata": {
    "collapsed": true
   },
   "outputs": [],
   "source": []
  },
  {
   "cell_type": "code",
   "execution_count": null,
   "metadata": {
    "collapsed": true
   },
   "outputs": [],
   "source": []
  },
  {
   "cell_type": "code",
   "execution_count": null,
   "metadata": {
    "collapsed": true
   },
   "outputs": [],
   "source": []
  }
 ],
 "metadata": {
  "kernelspec": {
   "display_name": "Python 3",
   "language": "python",
   "name": "python3"
  },
  "language_info": {
   "codemirror_mode": {
    "name": "ipython",
    "version": 3
   },
   "file_extension": ".py",
   "mimetype": "text/x-python",
   "name": "python",
   "nbconvert_exporter": "python",
   "pygments_lexer": "ipython3",
   "version": "3.6.2"
  }
 },
 "nbformat": 4,
 "nbformat_minor": 2
}
