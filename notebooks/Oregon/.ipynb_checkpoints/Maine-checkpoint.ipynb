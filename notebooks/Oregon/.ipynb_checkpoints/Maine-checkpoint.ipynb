{
 "cells": [
  {
   "cell_type": "code",
   "execution_count": 1,
   "metadata": {
    "collapsed": true
   },
   "outputs": [],
   "source": [
    "import os\n",
    "import io\n",
    "import csv\n",
    "from read_data import convert_pdf_to_txt\n",
    "from PIL import Image\n",
    "import pytesseract\n",
    "from wand.image import Image as wi\n",
    "import hashlib\n",
    "import pandas as pd\n",
    "import numpy as np\n",
    "import pprint as pp\n",
    "from urllib.request import urlopen\n",
    "import time"
   ]
  },
  {
   "cell_type": "code",
   "execution_count": 2,
   "metadata": {
    "collapsed": true
   },
   "outputs": [],
   "source": [
    "def get_size(st):\n",
    "    if os.path.isfile(st):\n",
    "        return os.path.getsize(st)"
   ]
  },
  {
   "cell_type": "code",
   "execution_count": 3,
   "metadata": {
    "collapsed": true
   },
   "outputs": [],
   "source": [
    "def conv_pdf(pdf):\n",
    "    if os.path.isfile('./pdfs/pdfs/' + pdf):\n",
    "        print('--> ' + pdf)\n",
    "        with open('./pdfs/pdfs/' + pdf, 'rb') as f:\n",
    "            # text from pdf\n",
    "            bfr = io.BufferedReader(f)\n",
    "            pdf_text = convert_pdf_to_txt(bfr) \n",
    "            \n",
    "            # recognized text (OCR) from pdf\n",
    "            if len(pdf_text.strip()) <= 50:\n",
    "                pdf_file = wi(filename='./pdfs/pdfs/' + pdf, resolution=200)\n",
    "                pdfImage = pdf_file.convert('jpeg')\n",
    "                imageBlobs = []\n",
    "                for img in pdfImage.sequence:\n",
    "                    imgPage = wi(image=img)\n",
    "                    imageBlobs.append(imgPage.make_blob('jpeg'))\n",
    "\n",
    "                recognized_text = []\n",
    "\n",
    "                for imgBlob in imageBlobs:\n",
    "                    im = Image.open(io.BytesIO(imgBlob))\n",
    "                    text = pytesseract.image_to_string(im, lang = 'eng')\n",
    "                    recognized_text.append(text)\n",
    "\n",
    "                recognized_text = '\\n\\n\\n'.join(recognized_text)\n",
    "\n",
    "            pdf_text = pdf_text if len(pdf_text.strip()) > 50 else recognized_text\n",
    "            \n",
    "            return pdf_text"
   ]
  },
  {
   "cell_type": "code",
   "execution_count": 4,
   "metadata": {
    "collapsed": true,
    "scrolled": false
   },
   "outputs": [],
   "source": [
    "oregon_csv = pd.read_csv('oregon_20170904.csv', index_col = 1) # change the list len"
   ]
  },
  {
   "cell_type": "code",
   "execution_count": 5,
   "metadata": {
    "collapsed": true
   },
   "outputs": [],
   "source": [
    "oregon_csv['size'] = oregon_csv.filename.apply(lambda x: './pdfs/pdfs/' + x).apply(get_size)\n",
    "oregon_csv = oregon_csv.sort_values('size')"
   ]
  },
  {
   "cell_type": "code",
   "execution_count": 6,
   "metadata": {
    "collapsed": true
   },
   "outputs": [],
   "source": [
    "oregon_csv = oregon_csv[30050:30150]"
   ]
  },
  {
   "cell_type": "code",
   "execution_count": 7,
   "metadata": {
    "scrolled": true
   },
   "outputs": [
    {
     "data": {
      "text/html": [
       "<div>\n",
       "<style>\n",
       "    .dataframe thead tr:only-child th {\n",
       "        text-align: right;\n",
       "    }\n",
       "\n",
       "    .dataframe thead th {\n",
       "        text-align: left;\n",
       "    }\n",
       "\n",
       "    .dataframe tbody tr th {\n",
       "        vertical-align: top;\n",
       "    }\n",
       "</style>\n",
       "<table border=\"1\" class=\"dataframe\">\n",
       "  <thead>\n",
       "    <tr style=\"text-align: right;\">\n",
       "      <th></th>\n",
       "      <th>bill</th>\n",
       "      <th>session</th>\n",
       "      <th>text</th>\n",
       "      <th>url</th>\n",
       "      <th>filename</th>\n",
       "      <th>size</th>\n",
       "    </tr>\n",
       "  </thead>\n",
       "  <tbody>\n",
       "    <tr>\n",
       "      <th>count</th>\n",
       "      <td>100</td>\n",
       "      <td>100</td>\n",
       "      <td>0.0</td>\n",
       "      <td>100</td>\n",
       "      <td>100</td>\n",
       "      <td>1.000000e+02</td>\n",
       "    </tr>\n",
       "    <tr>\n",
       "      <th>unique</th>\n",
       "      <td>79</td>\n",
       "      <td>1</td>\n",
       "      <td>NaN</td>\n",
       "      <td>100</td>\n",
       "      <td>100</td>\n",
       "      <td>NaN</td>\n",
       "    </tr>\n",
       "    <tr>\n",
       "      <th>top</th>\n",
       "      <td>SB5526</td>\n",
       "      <td>2017 Regular Session</td>\n",
       "      <td>NaN</td>\n",
       "      <td>/liz/2017R1/Downloads/CommitteeMeetingDocument...</td>\n",
       "      <td>CommitteeMeetingDocument_137125.pdf</td>\n",
       "      <td>NaN</td>\n",
       "    </tr>\n",
       "    <tr>\n",
       "      <th>freq</th>\n",
       "      <td>4</td>\n",
       "      <td>100</td>\n",
       "      <td>NaN</td>\n",
       "      <td>1</td>\n",
       "      <td>1</td>\n",
       "      <td>NaN</td>\n",
       "    </tr>\n",
       "    <tr>\n",
       "      <th>mean</th>\n",
       "      <td>NaN</td>\n",
       "      <td>NaN</td>\n",
       "      <td>NaN</td>\n",
       "      <td>NaN</td>\n",
       "      <td>NaN</td>\n",
       "      <td>2.260435e+06</td>\n",
       "    </tr>\n",
       "    <tr>\n",
       "      <th>std</th>\n",
       "      <td>NaN</td>\n",
       "      <td>NaN</td>\n",
       "      <td>NaN</td>\n",
       "      <td>NaN</td>\n",
       "      <td>NaN</td>\n",
       "      <td>9.928045e+04</td>\n",
       "    </tr>\n",
       "    <tr>\n",
       "      <th>min</th>\n",
       "      <td>NaN</td>\n",
       "      <td>NaN</td>\n",
       "      <td>NaN</td>\n",
       "      <td>NaN</td>\n",
       "      <td>NaN</td>\n",
       "      <td>2.113165e+06</td>\n",
       "    </tr>\n",
       "    <tr>\n",
       "      <th>25%</th>\n",
       "      <td>NaN</td>\n",
       "      <td>NaN</td>\n",
       "      <td>NaN</td>\n",
       "      <td>NaN</td>\n",
       "      <td>NaN</td>\n",
       "      <td>2.181412e+06</td>\n",
       "    </tr>\n",
       "    <tr>\n",
       "      <th>50%</th>\n",
       "      <td>NaN</td>\n",
       "      <td>NaN</td>\n",
       "      <td>NaN</td>\n",
       "      <td>NaN</td>\n",
       "      <td>NaN</td>\n",
       "      <td>2.250770e+06</td>\n",
       "    </tr>\n",
       "    <tr>\n",
       "      <th>75%</th>\n",
       "      <td>NaN</td>\n",
       "      <td>NaN</td>\n",
       "      <td>NaN</td>\n",
       "      <td>NaN</td>\n",
       "      <td>NaN</td>\n",
       "      <td>2.327980e+06</td>\n",
       "    </tr>\n",
       "    <tr>\n",
       "      <th>max</th>\n",
       "      <td>NaN</td>\n",
       "      <td>NaN</td>\n",
       "      <td>NaN</td>\n",
       "      <td>NaN</td>\n",
       "      <td>NaN</td>\n",
       "      <td>2.470216e+06</td>\n",
       "    </tr>\n",
       "  </tbody>\n",
       "</table>\n",
       "</div>"
      ],
      "text/plain": [
       "          bill               session  text  \\\n",
       "count      100                   100   0.0   \n",
       "unique      79                     1   NaN   \n",
       "top     SB5526  2017 Regular Session   NaN   \n",
       "freq         4                   100   NaN   \n",
       "mean       NaN                   NaN   NaN   \n",
       "std        NaN                   NaN   NaN   \n",
       "min        NaN                   NaN   NaN   \n",
       "25%        NaN                   NaN   NaN   \n",
       "50%        NaN                   NaN   NaN   \n",
       "75%        NaN                   NaN   NaN   \n",
       "max        NaN                   NaN   NaN   \n",
       "\n",
       "                                                      url  \\\n",
       "count                                                 100   \n",
       "unique                                                100   \n",
       "top     /liz/2017R1/Downloads/CommitteeMeetingDocument...   \n",
       "freq                                                    1   \n",
       "mean                                                  NaN   \n",
       "std                                                   NaN   \n",
       "min                                                   NaN   \n",
       "25%                                                   NaN   \n",
       "50%                                                   NaN   \n",
       "75%                                                   NaN   \n",
       "max                                                   NaN   \n",
       "\n",
       "                                   filename          size  \n",
       "count                                   100  1.000000e+02  \n",
       "unique                                  100           NaN  \n",
       "top     CommitteeMeetingDocument_137125.pdf           NaN  \n",
       "freq                                      1           NaN  \n",
       "mean                                    NaN  2.260435e+06  \n",
       "std                                     NaN  9.928045e+04  \n",
       "min                                     NaN  2.113165e+06  \n",
       "25%                                     NaN  2.181412e+06  \n",
       "50%                                     NaN  2.250770e+06  \n",
       "75%                                     NaN  2.327980e+06  \n",
       "max                                     NaN  2.470216e+06  "
      ]
     },
     "execution_count": 7,
     "metadata": {},
     "output_type": "execute_result"
    }
   ],
   "source": [
    "oregon_csv = oregon_csv[oregon_csv.filename != 'CommitteeMeetingDocument_129873.pdf'] # DO NOT COMMENT OUT\n",
    "oregon_csv = oregon_csv[oregon_csv.filename != 'CommitteeMeetingDocument_129678.pdf']\n",
    "oregon_csv = oregon_csv[oregon_csv.filename != 'CommitteeMeetingDocument_116229.pdf']\n",
    "oregon_csv.describe(include='all')"
   ]
  },
  {
   "cell_type": "code",
   "execution_count": null,
   "metadata": {
    "scrolled": true
   },
   "outputs": [
    {
     "name": "stdout",
     "output_type": "stream",
     "text": [
      "--> CommitteeMeetingDocument_133154.pdf\n",
      "--> CommitteeMeetingDocument_123322.pdf\n",
      "--> CommitteeMeetingDocument_132938.pdf\n",
      "--> CommitteeMeetingDocument_122227.pdf\n",
      "--> CommitteeMeetingDocument_137038.pdf\n",
      "--> CommitteeMeetingDocument_97430.pdf\n",
      "--> CommitteeMeetingDocument_101336.pdf\n",
      "--> CommitteeMeetingDocument_120533.pdf\n",
      "--> CommitteeMeetingDocument_117926.pdf\n",
      "--> CommitteeMeetingDocument_108469.pdf\n",
      "--> CommitteeMeetingDocument_116275.pdf\n",
      "--> CommitteeMeetingDocument_115351.pdf\n",
      "--> CommitteeMeetingDocument_135446.pdf\n",
      "--> CommitteeMeetingDocument_108319.pdf\n",
      "--> CommitteeMeetingDocument_119419.pdf\n",
      "--> CommitteeMeetingDocument_108896.pdf\n",
      "--> CommitteeMeetingDocument_113789.pdf\n",
      "--> CommitteeMeetingDocument_130069.pdf\n",
      "--> CommitteeMeetingDocument_105916.pdf\n",
      "--> CommitteeMeetingDocument_100143.pdf\n",
      "--> CommitteeMeetingDocument_127266.pdf\n",
      "--> CommitteeMeetingDocument_111414.pdf\n",
      "--> CommitteeMeetingDocument_97803.pdf\n",
      "--> CommitteeMeetingDocument_109184.pdf\n",
      "--> CommitteeMeetingDocument_124035.pdf\n",
      "--> CommitteeMeetingDocument_106387.pdf\n",
      "--> CommitteeMeetingDocument_132052.pdf\n",
      "--> CommitteeMeetingDocument_127845.pdf\n",
      "--> CommitteeMeetingDocument_124725.pdf\n",
      "--> CommitteeMeetingDocument_124378.pdf\n",
      "--> CommitteeMeetingDocument_102576.pdf\n",
      "--> CommitteeMeetingDocument_106532.pdf\n",
      "--> CommitteeMeetingDocument_129649.pdf\n",
      "--> CommitteeMeetingDocument_106773.pdf\n",
      "--> CommitteeMeetingDocument_121154.pdf\n",
      "--> CommitteeMeetingDocument_104056.pdf\n",
      "--> CommitteeMeetingDocument_97979.pdf\n",
      "--> CommitteeMeetingDocument_114072.pdf\n",
      "--> CommitteeMeetingDocument_114525.pdf\n",
      "--> CommitteeMeetingDocument_135715.pdf\n",
      "--> CommitteeMeetingDocument_97783.pdf\n",
      "--> CommitteeMeetingDocument_130051.pdf\n",
      "--> CommitteeMeetingDocument_96112.pdf\n",
      "--> CommitteeMeetingDocument_113616.pdf\n",
      "--> CommitteeMeetingDocument_98077.pdf\n",
      "--> CommitteeMeetingDocument_101396.pdf\n",
      "--> CommitteeMeetingDocument_115703.pdf\n",
      "--> CommitteeMeetingDocument_118112.pdf\n",
      "--> CommitteeMeetingDocument_129047.pdf\n",
      "--> CommitteeMeetingDocument_118098.pdf\n",
      "--> CommitteeMeetingDocument_106065.pdf\n",
      "--> CommitteeMeetingDocument_97023.pdf\n",
      "--> CommitteeMeetingDocument_115018.pdf\n",
      "--> CommitteeMeetingDocument_104601.pdf\n",
      "--> CommitteeMeetingDocument_99470.pdf\n",
      "--> CommitteeMeetingDocument_96026.pdf\n",
      "--> CommitteeMeetingDocument_104057.pdf\n",
      "--> CommitteeMeetingDocument_136452.pdf\n",
      "--> CommitteeMeetingDocument_100779.pdf\n",
      "--> CommitteeMeetingDocument_109419.pdf\n",
      "--> CommitteeMeetingDocument_106037.pdf\n",
      "--> CommitteeMeetingDocument_110931.pdf\n",
      "--> CommitteeMeetingDocument_128766.pdf\n",
      "--> CommitteeMeetingDocument_108740.pdf\n",
      "--> CommitteeMeetingDocument_100646.pdf\n",
      "--> CommitteeMeetingDocument_105488.pdf\n",
      "--> CommitteeMeetingDocument_134239.pdf\n",
      "--> CommitteeMeetingDocument_110557.pdf\n",
      "--> CommitteeMeetingDocument_132411.pdf\n",
      "--> CommitteeMeetingDocument_129884.pdf\n",
      "--> CommitteeMeetingDocument_101826.pdf\n",
      "--> CommitteeMeetingDocument_101821.pdf\n",
      "--> CommitteeMeetingDocument_101827.pdf\n",
      "--> CommitteeMeetingDocument_101823.pdf\n",
      "--> CommitteeMeetingDocument_137125.pdf\n",
      "--> CommitteeMeetingDocument_103750.pdf\n",
      "--> CommitteeMeetingDocument_129407.pdf\n",
      "--> CommitteeMeetingDocument_116907.pdf\n",
      "--> CommitteeMeetingDocument_101418.pdf\n",
      "--> CommitteeMeetingDocument_97135.pdf\n"
     ]
    }
   ],
   "source": [
    "oregon_csv['text'] = oregon_csv.filename.apply(conv_pdf)"
   ]
  },
  {
   "cell_type": "code",
   "execution_count": null,
   "metadata": {
    "collapsed": true
   },
   "outputs": [],
   "source": [
    "oregon_csv"
   ]
  },
  {
   "cell_type": "code",
   "execution_count": null,
   "metadata": {
    "collapsed": true
   },
   "outputs": [],
   "source": [
    "oregon_csv.loc[:, ['bill', 'session', 'text', 'url', 'filename']].to_csv('oregon-pt46.csv')"
   ]
  },
  {
   "cell_type": "code",
   "execution_count": null,
   "metadata": {
    "collapsed": true
   },
   "outputs": [],
   "source": []
  },
  {
   "cell_type": "code",
   "execution_count": null,
   "metadata": {
    "collapsed": true
   },
   "outputs": [],
   "source": []
  },
  {
   "cell_type": "code",
   "execution_count": null,
   "metadata": {
    "collapsed": true
   },
   "outputs": [],
   "source": []
  },
  {
   "cell_type": "code",
   "execution_count": null,
   "metadata": {
    "collapsed": true
   },
   "outputs": [],
   "source": []
  },
  {
   "cell_type": "code",
   "execution_count": null,
   "metadata": {
    "collapsed": true
   },
   "outputs": [],
   "source": []
  },
  {
   "cell_type": "code",
   "execution_count": null,
   "metadata": {
    "collapsed": true,
    "scrolled": true
   },
   "outputs": [],
   "source": [
    "fil_csv = pd.read_csv('oregon1001-1890.csv', index_col=0)"
   ]
  },
  {
   "cell_type": "code",
   "execution_count": null,
   "metadata": {
    "collapsed": true
   },
   "outputs": [],
   "source": [
    "b = fil_csv[fil_csv[['text']].isnull().values]"
   ]
  },
  {
   "cell_type": "code",
   "execution_count": null,
   "metadata": {
    "collapsed": true
   },
   "outputs": [],
   "source": [
    "b.loc[:, 'filename'] = b.url.apply(write_pdf)"
   ]
  },
  {
   "cell_type": "code",
   "execution_count": null,
   "metadata": {
    "collapsed": true
   },
   "outputs": [],
   "source": [
    "b['text'] = b.filename.apply(conv_pdf)"
   ]
  },
  {
   "cell_type": "code",
   "execution_count": null,
   "metadata": {
    "collapsed": true
   },
   "outputs": [],
   "source": [
    "b"
   ]
  },
  {
   "cell_type": "code",
   "execution_count": null,
   "metadata": {
    "collapsed": true
   },
   "outputs": [],
   "source": [
    "b.to_csv('oregon_missed_115.csv')"
   ]
  },
  {
   "cell_type": "code",
   "execution_count": null,
   "metadata": {
    "collapsed": true
   },
   "outputs": [],
   "source": []
  },
  {
   "cell_type": "code",
   "execution_count": null,
   "metadata": {
    "collapsed": true
   },
   "outputs": [],
   "source": [
    "b.loc[:, 'filename'] = fil_csv[fil_csv[['text']].isnull().values].url.apply(write_pdf)"
   ]
  },
  {
   "cell_type": "code",
   "execution_count": null,
   "metadata": {
    "collapsed": true
   },
   "outputs": [],
   "source": [
    "b['text'] = b.filename.apply(conv_pdf)"
   ]
  },
  {
   "cell_type": "code",
   "execution_count": null,
   "metadata": {
    "collapsed": true
   },
   "outputs": [],
   "source": [
    "b"
   ]
  },
  {
   "cell_type": "code",
   "execution_count": null,
   "metadata": {
    "collapsed": true
   },
   "outputs": [],
   "source": [
    "b.to_csv('oregon_missed_20.csv')"
   ]
  },
  {
   "cell_type": "code",
   "execution_count": null,
   "metadata": {
    "collapsed": true
   },
   "outputs": [],
   "source": []
  }
 ],
 "metadata": {
  "kernelspec": {
   "display_name": "Python 3",
   "language": "python",
   "name": "python3"
  },
  "language_info": {
   "codemirror_mode": {
    "name": "ipython",
    "version": 3
   },
   "file_extension": ".py",
   "mimetype": "text/x-python",
   "name": "python",
   "nbconvert_exporter": "python",
   "pygments_lexer": "ipython3",
   "version": "3.6.2"
  }
 },
 "nbformat": 4,
 "nbformat_minor": 2
}
