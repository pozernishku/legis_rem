{
 "cells": [
  {
   "cell_type": "code",
   "execution_count": 1,
   "metadata": {
    "collapsed": true
   },
   "outputs": [],
   "source": [
    "import os\n",
    "import io\n",
    "import csv\n",
    "from read_data import convert_pdf_to_txt\n",
    "from PIL import Image\n",
    "import pytesseract\n",
    "from wand.image import Image as wi\n",
    "import hashlib\n",
    "import pandas as pd\n",
    "import numpy as np\n",
    "import pprint as pp\n",
    "from urllib.request import urlopen\n",
    "import time"
   ]
  },
  {
   "cell_type": "code",
   "execution_count": 2,
   "metadata": {
    "collapsed": true
   },
   "outputs": [],
   "source": [
    "def get_size(st):\n",
    "    if os.path.isfile(st):\n",
    "        return os.path.getsize(st)"
   ]
  },
  {
   "cell_type": "code",
   "execution_count": 3,
   "metadata": {
    "collapsed": true
   },
   "outputs": [],
   "source": [
    "def conv_pdf(pdf):\n",
    "    if os.path.isfile('./pdfs/pdfs/' + pdf):\n",
    "        print('--> ' + pdf)\n",
    "        with open('./pdfs/pdfs/' + pdf, 'rb') as f:\n",
    "            # text from pdf\n",
    "            bfr = io.BufferedReader(f)\n",
    "            pdf_text = convert_pdf_to_txt(bfr) \n",
    "            \n",
    "            # recognized text (OCR) from pdf\n",
    "            if len(pdf_text.strip()) <= 50:\n",
    "                pdf_file = wi(filename='./pdfs/pdfs/' + pdf, resolution=200)\n",
    "                pdfImage = pdf_file.convert('jpeg')\n",
    "                imageBlobs = []\n",
    "                for img in pdfImage.sequence:\n",
    "                    imgPage = wi(image=img)\n",
    "                    imageBlobs.append(imgPage.make_blob('jpeg'))\n",
    "\n",
    "                recognized_text = []\n",
    "\n",
    "                for imgBlob in imageBlobs:\n",
    "                    im = Image.open(io.BytesIO(imgBlob))\n",
    "                    text = pytesseract.image_to_string(im, lang = 'eng')\n",
    "                    recognized_text.append(text)\n",
    "\n",
    "                recognized_text = '\\n\\n\\n'.join(recognized_text)\n",
    "\n",
    "            pdf_text = pdf_text if len(pdf_text.strip()) > 50 else recognized_text\n",
    "            \n",
    "            return pdf_text"
   ]
  },
  {
   "cell_type": "code",
   "execution_count": 4,
   "metadata": {
    "collapsed": true,
    "scrolled": false
   },
   "outputs": [],
   "source": [
    "oregon_csv = pd.read_csv('oregon_20170904.csv', index_col = 1) # change the list len"
   ]
  },
  {
   "cell_type": "code",
   "execution_count": 5,
   "metadata": {
    "collapsed": true
   },
   "outputs": [],
   "source": [
    "oregon_csv['size'] = oregon_csv.filename.apply(lambda x: './pdfs/pdfs/' + x).apply(get_size)\n",
    "oregon_csv = oregon_csv.sort_values('size')"
   ]
  },
  {
   "cell_type": "code",
   "execution_count": 6,
   "metadata": {
    "collapsed": true
   },
   "outputs": [],
   "source": [
    "oregon_csv = oregon_csv[30590:30600]"
   ]
  },
  {
   "cell_type": "code",
   "execution_count": 7,
   "metadata": {
    "scrolled": true
   },
   "outputs": [
    {
     "data": {
      "text/html": [
       "<div>\n",
       "<style>\n",
       "    .dataframe thead tr:only-child th {\n",
       "        text-align: right;\n",
       "    }\n",
       "\n",
       "    .dataframe thead th {\n",
       "        text-align: left;\n",
       "    }\n",
       "\n",
       "    .dataframe tbody tr th {\n",
       "        vertical-align: top;\n",
       "    }\n",
       "</style>\n",
       "<table border=\"1\" class=\"dataframe\">\n",
       "  <thead>\n",
       "    <tr style=\"text-align: right;\">\n",
       "      <th></th>\n",
       "      <th>bill</th>\n",
       "      <th>session</th>\n",
       "      <th>text</th>\n",
       "      <th>url</th>\n",
       "      <th>filename</th>\n",
       "      <th>size</th>\n",
       "    </tr>\n",
       "  </thead>\n",
       "  <tbody>\n",
       "    <tr>\n",
       "      <th>count</th>\n",
       "      <td>9</td>\n",
       "      <td>9</td>\n",
       "      <td>0.0</td>\n",
       "      <td>9</td>\n",
       "      <td>9</td>\n",
       "      <td>9.000000e+00</td>\n",
       "    </tr>\n",
       "    <tr>\n",
       "      <th>unique</th>\n",
       "      <td>9</td>\n",
       "      <td>1</td>\n",
       "      <td>NaN</td>\n",
       "      <td>9</td>\n",
       "      <td>9</td>\n",
       "      <td>NaN</td>\n",
       "    </tr>\n",
       "    <tr>\n",
       "      <th>top</th>\n",
       "      <td>HB2198</td>\n",
       "      <td>2017 Regular Session</td>\n",
       "      <td>NaN</td>\n",
       "      <td>/liz/2017R1/Downloads/CommitteeMeetingDocument...</td>\n",
       "      <td>CommitteeMeetingDocument_103826.pdf</td>\n",
       "      <td>NaN</td>\n",
       "    </tr>\n",
       "    <tr>\n",
       "      <th>freq</th>\n",
       "      <td>1</td>\n",
       "      <td>9</td>\n",
       "      <td>NaN</td>\n",
       "      <td>1</td>\n",
       "      <td>1</td>\n",
       "      <td>NaN</td>\n",
       "    </tr>\n",
       "    <tr>\n",
       "      <th>mean</th>\n",
       "      <td>NaN</td>\n",
       "      <td>NaN</td>\n",
       "      <td>NaN</td>\n",
       "      <td>NaN</td>\n",
       "      <td>NaN</td>\n",
       "      <td>1.271231e+07</td>\n",
       "    </tr>\n",
       "    <tr>\n",
       "      <th>std</th>\n",
       "      <td>NaN</td>\n",
       "      <td>NaN</td>\n",
       "      <td>NaN</td>\n",
       "      <td>NaN</td>\n",
       "      <td>NaN</td>\n",
       "      <td>3.794812e+05</td>\n",
       "    </tr>\n",
       "    <tr>\n",
       "      <th>min</th>\n",
       "      <td>NaN</td>\n",
       "      <td>NaN</td>\n",
       "      <td>NaN</td>\n",
       "      <td>NaN</td>\n",
       "      <td>NaN</td>\n",
       "      <td>1.213224e+07</td>\n",
       "    </tr>\n",
       "    <tr>\n",
       "      <th>25%</th>\n",
       "      <td>NaN</td>\n",
       "      <td>NaN</td>\n",
       "      <td>NaN</td>\n",
       "      <td>NaN</td>\n",
       "      <td>NaN</td>\n",
       "      <td>1.238985e+07</td>\n",
       "    </tr>\n",
       "    <tr>\n",
       "      <th>50%</th>\n",
       "      <td>NaN</td>\n",
       "      <td>NaN</td>\n",
       "      <td>NaN</td>\n",
       "      <td>NaN</td>\n",
       "      <td>NaN</td>\n",
       "      <td>1.270493e+07</td>\n",
       "    </tr>\n",
       "    <tr>\n",
       "      <th>75%</th>\n",
       "      <td>NaN</td>\n",
       "      <td>NaN</td>\n",
       "      <td>NaN</td>\n",
       "      <td>NaN</td>\n",
       "      <td>NaN</td>\n",
       "      <td>1.297851e+07</td>\n",
       "    </tr>\n",
       "    <tr>\n",
       "      <th>max</th>\n",
       "      <td>NaN</td>\n",
       "      <td>NaN</td>\n",
       "      <td>NaN</td>\n",
       "      <td>NaN</td>\n",
       "      <td>NaN</td>\n",
       "      <td>1.318399e+07</td>\n",
       "    </tr>\n",
       "  </tbody>\n",
       "</table>\n",
       "</div>"
      ],
      "text/plain": [
       "          bill               session  text  \\\n",
       "count        9                     9   0.0   \n",
       "unique       9                     1   NaN   \n",
       "top     HB2198  2017 Regular Session   NaN   \n",
       "freq         1                     9   NaN   \n",
       "mean       NaN                   NaN   NaN   \n",
       "std        NaN                   NaN   NaN   \n",
       "min        NaN                   NaN   NaN   \n",
       "25%        NaN                   NaN   NaN   \n",
       "50%        NaN                   NaN   NaN   \n",
       "75%        NaN                   NaN   NaN   \n",
       "max        NaN                   NaN   NaN   \n",
       "\n",
       "                                                      url  \\\n",
       "count                                                   9   \n",
       "unique                                                  9   \n",
       "top     /liz/2017R1/Downloads/CommitteeMeetingDocument...   \n",
       "freq                                                    1   \n",
       "mean                                                  NaN   \n",
       "std                                                   NaN   \n",
       "min                                                   NaN   \n",
       "25%                                                   NaN   \n",
       "50%                                                   NaN   \n",
       "75%                                                   NaN   \n",
       "max                                                   NaN   \n",
       "\n",
       "                                   filename          size  \n",
       "count                                     9  9.000000e+00  \n",
       "unique                                    9           NaN  \n",
       "top     CommitteeMeetingDocument_103826.pdf           NaN  \n",
       "freq                                      1           NaN  \n",
       "mean                                    NaN  1.271231e+07  \n",
       "std                                     NaN  3.794812e+05  \n",
       "min                                     NaN  1.213224e+07  \n",
       "25%                                     NaN  1.238985e+07  \n",
       "50%                                     NaN  1.270493e+07  \n",
       "75%                                     NaN  1.297851e+07  \n",
       "max                                     NaN  1.318399e+07  "
      ]
     },
     "execution_count": 7,
     "metadata": {},
     "output_type": "execute_result"
    }
   ],
   "source": [
    "oregon_csv = oregon_csv[oregon_csv.filename != 'CommitteeMeetingDocument_121140.pdf'] \n",
    "oregon_csv = oregon_csv[oregon_csv.filename != 'CommitteeMeetingDocument_119635.pdf']\n",
    "oregon_csv = oregon_csv[oregon_csv.filename != 'CommitteeMeetingDocument_110713.pdf']\n",
    "oregon_csv = oregon_csv[oregon_csv.filename != 'CommitteeMeetingDocument_135717.pdf']\n",
    "# oregon_csv = oregon_csv[oregon_csv.filename != 'CommitteeMeetingDocument_118799.pdf']\n",
    "oregon_csv.describe(include='all')"
   ]
  },
  {
   "cell_type": "code",
   "execution_count": null,
   "metadata": {
    "scrolled": false
   },
   "outputs": [
    {
     "name": "stdout",
     "output_type": "stream",
     "text": [
      "--> CommitteeMeetingDocument_101718.pdf\n",
      "--> CommitteeMeetingDocument_105402.pdf\n"
     ]
    }
   ],
   "source": [
    "oregon_csv['text'] = oregon_csv.filename.apply(conv_pdf)"
   ]
  },
  {
   "cell_type": "code",
   "execution_count": null,
   "metadata": {},
   "outputs": [],
   "source": [
    "oregon_csv"
   ]
  },
  {
   "cell_type": "code",
   "execution_count": null,
   "metadata": {
    "collapsed": true
   },
   "outputs": [],
   "source": [
    "oregon_csv.loc[:, ['bill', 'session', 'text', 'url', 'filename']].to_csv('oregon-pt63.csv')"
   ]
  },
  {
   "cell_type": "code",
   "execution_count": null,
   "metadata": {
    "collapsed": true
   },
   "outputs": [],
   "source": []
  },
  {
   "cell_type": "code",
   "execution_count": null,
   "metadata": {
    "collapsed": true
   },
   "outputs": [],
   "source": []
  },
  {
   "cell_type": "code",
   "execution_count": null,
   "metadata": {
    "collapsed": true
   },
   "outputs": [],
   "source": []
  },
  {
   "cell_type": "code",
   "execution_count": null,
   "metadata": {
    "collapsed": true
   },
   "outputs": [],
   "source": []
  },
  {
   "cell_type": "code",
   "execution_count": null,
   "metadata": {
    "collapsed": true
   },
   "outputs": [],
   "source": []
  },
  {
   "cell_type": "code",
   "execution_count": null,
   "metadata": {
    "collapsed": true,
    "scrolled": true
   },
   "outputs": [],
   "source": [
    "fil_csv = pd.read_csv('oregon1001-1890.csv', index_col=0)"
   ]
  },
  {
   "cell_type": "code",
   "execution_count": null,
   "metadata": {
    "collapsed": true
   },
   "outputs": [],
   "source": [
    "b = fil_csv[fil_csv[['text']].isnull().values]"
   ]
  },
  {
   "cell_type": "code",
   "execution_count": null,
   "metadata": {
    "collapsed": true
   },
   "outputs": [],
   "source": [
    "b.loc[:, 'filename'] = b.url.apply(write_pdf)"
   ]
  },
  {
   "cell_type": "code",
   "execution_count": null,
   "metadata": {
    "collapsed": true
   },
   "outputs": [],
   "source": [
    "b['text'] = b.filename.apply(conv_pdf)"
   ]
  },
  {
   "cell_type": "code",
   "execution_count": null,
   "metadata": {
    "collapsed": true
   },
   "outputs": [],
   "source": [
    "b"
   ]
  },
  {
   "cell_type": "code",
   "execution_count": null,
   "metadata": {
    "collapsed": true
   },
   "outputs": [],
   "source": [
    "b.to_csv('oregon_missed_115.csv')"
   ]
  },
  {
   "cell_type": "code",
   "execution_count": null,
   "metadata": {
    "collapsed": true
   },
   "outputs": [],
   "source": []
  },
  {
   "cell_type": "code",
   "execution_count": null,
   "metadata": {
    "collapsed": true
   },
   "outputs": [],
   "source": [
    "b.loc[:, 'filename'] = fil_csv[fil_csv[['text']].isnull().values].url.apply(write_pdf)"
   ]
  },
  {
   "cell_type": "code",
   "execution_count": null,
   "metadata": {
    "collapsed": true
   },
   "outputs": [],
   "source": [
    "b['text'] = b.filename.apply(conv_pdf)"
   ]
  },
  {
   "cell_type": "code",
   "execution_count": null,
   "metadata": {
    "collapsed": true
   },
   "outputs": [],
   "source": [
    "b"
   ]
  },
  {
   "cell_type": "code",
   "execution_count": null,
   "metadata": {
    "collapsed": true
   },
   "outputs": [],
   "source": [
    "b.to_csv('oregon_missed_20.csv')"
   ]
  },
  {
   "cell_type": "code",
   "execution_count": null,
   "metadata": {
    "collapsed": true
   },
   "outputs": [],
   "source": []
  }
 ],
 "metadata": {
  "kernelspec": {
   "display_name": "Python 3",
   "language": "python",
   "name": "python3"
  },
  "language_info": {
   "codemirror_mode": {
    "name": "ipython",
    "version": 3
   },
   "file_extension": ".py",
   "mimetype": "text/x-python",
   "name": "python",
   "nbconvert_exporter": "python",
   "pygments_lexer": "ipython3",
   "version": "3.6.2"
  }
 },
 "nbformat": 4,
 "nbformat_minor": 2
}
