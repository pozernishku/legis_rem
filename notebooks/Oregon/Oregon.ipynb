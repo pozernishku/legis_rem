{
 "cells": [
  {
   "cell_type": "code",
   "execution_count": null,
   "metadata": {
    "collapsed": true
   },
   "outputs": [],
   "source": [
    "import os\n",
    "import io\n",
    "import csv\n",
    "from read_data import convert_pdf_to_txt\n",
    "from PIL import Image\n",
    "import pytesseract\n",
    "from wand.image import Image as wi\n",
    "import hashlib\n",
    "import pandas as pd\n",
    "import numpy as np\n",
    "import pprint as pp\n",
    "from urllib.request import urlopen\n",
    "import time"
   ]
  },
  {
   "cell_type": "code",
   "execution_count": null,
   "metadata": {
    "collapsed": true
   },
   "outputs": [],
   "source": [
    "def get_size(st):\n",
    "    if os.path.isfile(st):\n",
    "        return os.path.getsize(st)"
   ]
  },
  {
   "cell_type": "code",
   "execution_count": null,
   "metadata": {
    "collapsed": true
   },
   "outputs": [],
   "source": [
    "def conv_pdf(pdf):\n",
    "    if os.path.isfile('./pdfs/pdfs/' + pdf):\n",
    "        print('--> ' + pdf)\n",
    "        with open('./pdfs/pdfs/' + pdf, 'rb') as f:\n",
    "            # text from pdf\n",
    "            bfr = io.BufferedReader(f)\n",
    "            pdf_text = convert_pdf_to_txt(bfr) \n",
    "            \n",
    "            # recognized text (OCR) from pdf\n",
    "            if len(pdf_text.strip()) <= 50:\n",
    "                pdf_file = wi(filename='./pdfs/pdfs/' + pdf, resolution=200)\n",
    "                pdfImage = pdf_file.convert('jpeg')\n",
    "                imageBlobs = []\n",
    "                for img in pdfImage.sequence:\n",
    "                    imgPage = wi(image=img)\n",
    "                    imageBlobs.append(imgPage.make_blob('jpeg'))\n",
    "\n",
    "                recognized_text = []\n",
    "\n",
    "                for imgBlob in imageBlobs:\n",
    "                    im = Image.open(io.BytesIO(imgBlob))\n",
    "                    text = pytesseract.image_to_string(im, lang = 'eng')\n",
    "                    recognized_text.append(text)\n",
    "\n",
    "                recognized_text = '\\n\\n\\n'.join(recognized_text)\n",
    "\n",
    "            pdf_text = pdf_text if len(pdf_text.strip()) > 50 else recognized_text\n",
    "            \n",
    "            return pdf_text"
   ]
  },
  {
   "cell_type": "code",
   "execution_count": null,
   "metadata": {
    "collapsed": true,
    "scrolled": false
   },
   "outputs": [],
   "source": [
    "oregon_csv = pd.read_csv('oregon_20170904.csv', index_col = 1) # change the list len"
   ]
  },
  {
   "cell_type": "code",
   "execution_count": null,
   "metadata": {
    "collapsed": true
   },
   "outputs": [],
   "source": [
    "oregon_csv['size'] = oregon_csv.filename.apply(lambda x: './pdfs/pdfs/' + x).apply(get_size)\n",
    "oregon_csv = oregon_csv.sort_values('size')"
   ]
  },
  {
   "cell_type": "code",
   "execution_count": null,
   "metadata": {
    "collapsed": true
   },
   "outputs": [],
   "source": [
    "oregon_csv = oregon_csv[30590:30600]"
   ]
  },
  {
   "cell_type": "code",
   "execution_count": null,
   "metadata": {
    "scrolled": true
   },
   "outputs": [],
   "source": [
    "oregon_csv = oregon_csv[oregon_csv.filename != 'CommitteeMeetingDocument_121140.pdf'] \n",
    "oregon_csv = oregon_csv[oregon_csv.filename != 'CommitteeMeetingDocument_119635.pdf']\n",
    "oregon_csv = oregon_csv[oregon_csv.filename != 'CommitteeMeetingDocument_110713.pdf']\n",
    "oregon_csv = oregon_csv[oregon_csv.filename != 'CommitteeMeetingDocument_135717.pdf']\n",
    "# oregon_csv = oregon_csv[oregon_csv.filename != 'CommitteeMeetingDocument_118799.pdf']\n",
    "oregon_csv.describe(include='all')"
   ]
  },
  {
   "cell_type": "code",
   "execution_count": null,
   "metadata": {
    "scrolled": false
   },
   "outputs": [],
   "source": [
    "oregon_csv['text'] = oregon_csv.filename.apply(conv_pdf)"
   ]
  },
  {
   "cell_type": "code",
   "execution_count": null,
   "metadata": {},
   "outputs": [],
   "source": [
    "oregon_csv"
   ]
  },
  {
   "cell_type": "code",
   "execution_count": null,
   "metadata": {
    "collapsed": true
   },
   "outputs": [],
   "source": [
    "oregon_csv.loc[:, ['bill', 'session', 'text', 'url', 'filename']].to_csv('oregon-pt63.csv')"
   ]
  },
  {
   "cell_type": "code",
   "execution_count": null,
   "metadata": {
    "collapsed": true
   },
   "outputs": [],
   "source": []
  },
  {
   "cell_type": "code",
   "execution_count": null,
   "metadata": {
    "collapsed": true
   },
   "outputs": [],
   "source": []
  },
  {
   "cell_type": "code",
   "execution_count": null,
   "metadata": {
    "collapsed": true
   },
   "outputs": [],
   "source": []
  },
  {
   "cell_type": "code",
   "execution_count": null,
   "metadata": {
    "collapsed": true
   },
   "outputs": [],
   "source": []
  },
  {
   "cell_type": "code",
   "execution_count": null,
   "metadata": {
    "collapsed": true
   },
   "outputs": [],
   "source": []
  },
  {
   "cell_type": "code",
   "execution_count": null,
   "metadata": {
    "collapsed": true,
    "scrolled": true
   },
   "outputs": [],
   "source": [
    "fil_csv = pd.read_csv('oregon1001-1890.csv', index_col=0)"
   ]
  },
  {
   "cell_type": "code",
   "execution_count": null,
   "metadata": {
    "collapsed": true
   },
   "outputs": [],
   "source": [
    "b = fil_csv[fil_csv[['text']].isnull().values]"
   ]
  },
  {
   "cell_type": "code",
   "execution_count": null,
   "metadata": {
    "collapsed": true
   },
   "outputs": [],
   "source": [
    "b.loc[:, 'filename'] = b.url.apply(write_pdf)"
   ]
  },
  {
   "cell_type": "code",
   "execution_count": null,
   "metadata": {
    "collapsed": true
   },
   "outputs": [],
   "source": [
    "b['text'] = b.filename.apply(conv_pdf)"
   ]
  },
  {
   "cell_type": "code",
   "execution_count": null,
   "metadata": {
    "collapsed": true
   },
   "outputs": [],
   "source": [
    "b"
   ]
  },
  {
   "cell_type": "code",
   "execution_count": null,
   "metadata": {
    "collapsed": true
   },
   "outputs": [],
   "source": [
    "b.to_csv('oregon_missed_115.csv')"
   ]
  },
  {
   "cell_type": "code",
   "execution_count": null,
   "metadata": {
    "collapsed": true
   },
   "outputs": [],
   "source": []
  },
  {
   "cell_type": "code",
   "execution_count": null,
   "metadata": {
    "collapsed": true
   },
   "outputs": [],
   "source": [
    "b.loc[:, 'filename'] = fil_csv[fil_csv[['text']].isnull().values].url.apply(write_pdf)"
   ]
  },
  {
   "cell_type": "code",
   "execution_count": null,
   "metadata": {
    "collapsed": true
   },
   "outputs": [],
   "source": [
    "b['text'] = b.filename.apply(conv_pdf)"
   ]
  },
  {
   "cell_type": "code",
   "execution_count": null,
   "metadata": {
    "collapsed": true
   },
   "outputs": [],
   "source": [
    "b"
   ]
  },
  {
   "cell_type": "code",
   "execution_count": null,
   "metadata": {
    "collapsed": true
   },
   "outputs": [],
   "source": [
    "b.to_csv('oregon_missed_20.csv')"
   ]
  },
  {
   "cell_type": "code",
   "execution_count": null,
   "metadata": {
    "collapsed": true
   },
   "outputs": [],
   "source": []
  }
 ],
 "metadata": {
  "kernelspec": {
   "display_name": "Python 3",
   "language": "python",
   "name": "python3"
  },
  "language_info": {
   "codemirror_mode": {
    "name": "ipython",
    "version": 3
   },
   "file_extension": ".py",
   "mimetype": "text/x-python",
   "name": "python",
   "nbconvert_exporter": "python",
   "pygments_lexer": "ipython3",
   "version": "3.6.2"
  }
 },
 "nbformat": 4,
 "nbformat_minor": 2
}
