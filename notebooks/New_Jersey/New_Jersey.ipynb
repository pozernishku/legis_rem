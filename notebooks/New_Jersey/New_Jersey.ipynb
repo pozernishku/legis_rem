{
 "cells": [
  {
   "cell_type": "code",
   "execution_count": 1,
   "metadata": {
    "collapsed": true
   },
   "outputs": [],
   "source": [
    "import os\n",
    "import io\n",
    "import csv\n",
    "from read_data import convert_pdf_to_txt\n",
    "from PIL import Image\n",
    "import pytesseract\n",
    "from wand.image import Image as wi\n",
    "import hashlib\n",
    "import pandas as pd\n",
    "import numpy as np\n",
    "import pprint as pp\n",
    "from urllib.request import urlopen\n",
    "import time"
   ]
  },
  {
   "cell_type": "code",
   "execution_count": 2,
   "metadata": {
    "collapsed": true
   },
   "outputs": [],
   "source": [
    "def get_size(st):\n",
    "    if os.path.isfile(st):\n",
    "        return os.path.getsize(st)"
   ]
  },
  {
   "cell_type": "code",
   "execution_count": 3,
   "metadata": {
    "collapsed": true
   },
   "outputs": [],
   "source": [
    "def conv_pdf(pdf):\n",
    "    if os.path.isfile('./pdfs/' + pdf):\n",
    "        print('--> ' + pdf)\n",
    "        with open('./pdfs/' + pdf, 'rb') as f:\n",
    "            # text from pdf\n",
    "            bfr = io.BufferedReader(f)\n",
    "            pdf_text = convert_pdf_to_txt(bfr) \n",
    "\n",
    "            # recognized text (OCR) from pdf\n",
    "            if len(pdf_text.strip()) <= 50:\n",
    "                with wi(filename='./pdfs/' + pdf, resolution=200) as pdf_file:\n",
    "                    pdfImage = pdf_file.convert('jpeg')\n",
    "                    imageBlobs = []\n",
    "                    for img in pdfImage.sequence:\n",
    "                        with wi(image = img) as imgPage:\n",
    "                            imageBlobs.append(imgPage.make_blob('jpeg'))\n",
    "\n",
    "                recognized_text = []\n",
    "\n",
    "                for imgBlob in imageBlobs:\n",
    "                    im = Image.open(io.BytesIO(imgBlob))\n",
    "                    text = pytesseract.image_to_string(im, lang = 'eng')\n",
    "                    recognized_text.append(text)\n",
    "\n",
    "                recognized_text = '\\n\\n\\n'.join(recognized_text)\n",
    "\n",
    "            pdf_text = pdf_text if len(pdf_text.strip()) > 50 else recognized_text\n",
    "\n",
    "            return pdf_text"
   ]
  },
  {
   "cell_type": "code",
   "execution_count": 4,
   "metadata": {
    "collapsed": true
   },
   "outputs": [],
   "source": [
    "nj_csv = pd.read_csv('njleg_20170904.csv', index_col = 1) # change the list len"
   ]
  },
  {
   "cell_type": "code",
   "execution_count": 5,
   "metadata": {
    "collapsed": true
   },
   "outputs": [],
   "source": [
    "nj_csv['text'] = ''"
   ]
  },
  {
   "cell_type": "code",
   "execution_count": 6,
   "metadata": {
    "collapsed": true
   },
   "outputs": [],
   "source": [
    "nj_csv['size'] = nj_csv.filename.apply(lambda x: './pdfs/' + x).apply(get_size)\n",
    "nj_csv = nj_csv.sort_values('size')"
   ]
  },
  {
   "cell_type": "code",
   "execution_count": 8,
   "metadata": {
    "collapsed": true
   },
   "outputs": [],
   "source": [
    "nj_csv = nj_csv[631:641]"
   ]
  },
  {
   "cell_type": "code",
   "execution_count": null,
   "metadata": {
    "collapsed": true,
    "scrolled": false
   },
   "outputs": [],
   "source": [
    "nj_csv['text'] = nj_csv.filename.apply(conv_pdf)"
   ]
  },
  {
   "cell_type": "code",
   "execution_count": null,
   "metadata": {
    "collapsed": true
   },
   "outputs": [],
   "source": [
    "nj_csv.loc[:, ['bill', 'session', 'text', 'url', 'date', 'filename']].to_csv('nj_csv-pt12.csv')"
   ]
  }
 ],
 "metadata": {
  "kernelspec": {
   "display_name": "Python 3",
   "language": "python",
   "name": "python3"
  },
  "language_info": {
   "codemirror_mode": {
    "name": "ipython",
    "version": 3
   },
   "file_extension": ".py",
   "mimetype": "text/x-python",
   "name": "python",
   "nbconvert_exporter": "python",
   "pygments_lexer": "ipython3",
   "version": "3.6.2"
  }
 },
 "nbformat": 4,
 "nbformat_minor": 2
}
