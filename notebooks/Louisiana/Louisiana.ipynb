{
 "cells": [
  {
   "cell_type": "code",
   "execution_count": 35,
   "metadata": {
    "collapsed": true
   },
   "outputs": [],
   "source": [
    "import os\n",
    "import io\n",
    "import csv\n",
    "from read_data import convert_pdf_to_txt\n",
    "from PIL import Image\n",
    "import pytesseract\n",
    "from wand.image import Image as wi\n",
    "import hashlib"
   ]
  },
  {
   "cell_type": "code",
   "execution_count": 36,
   "metadata": {
    "collapsed": true
   },
   "outputs": [],
   "source": [
    "pdfs = os.listdir('./pdfs')"
   ]
  },
  {
   "cell_type": "code",
   "execution_count": 34,
   "metadata": {
    "collapsed": true
   },
   "outputs": [],
   "source": [
    "start_with_header = 1\n",
    "\n",
    "with open('out_louisiana.csv', 'w', newline='') as fcsv:\n",
    "    for pdf in pdfs:\n",
    "        with open('./pdfs/' + pdf, 'rb') as f:\n",
    "            # text from pdf\n",
    "            bfr = io.BufferedReader(f)\n",
    "            pdf_text = convert_pdf_to_txt(bfr) \n",
    "\n",
    "            # recognized text (OCR) from pdf\n",
    "            if len(pdf_text.strip()) <= 50:\n",
    "                with wi(filename=pdf, resolution=200) as pdf_file:\n",
    "                    pdfImage = pdf_file.convert('jpeg')\n",
    "                    imageBlobs = []\n",
    "                    for img in pdfImage.sequence:\n",
    "                        with wi(image = img) as imgPage:\n",
    "                            imageBlobs.append(imgPage.make_blob('jpeg'))\n",
    "\n",
    "                recognized_text = []\n",
    "\n",
    "                for imgBlob in imageBlobs:\n",
    "                    im = Image.open(io.BytesIO(imgBlob))\n",
    "                    text = pytesseract.image_to_string(im, lang = 'eng')\n",
    "                    recognized_text.append(text)\n",
    "\n",
    "                recognized_text = '\\n\\n\\n'.join(recognized_text)\n",
    "\n",
    "            pdf_text = pdf_text if len(pdf_text.strip()) > 50 else recognized_text\n",
    "            \n",
    "            writer = csv.writer(fcsv)\n",
    "            \n",
    "            if start_with_header:\n",
    "                writer.writerow(['filename', 'text'])\n",
    "                \n",
    "            start_with_header = 0\n",
    "            \n",
    "            writer.writerow([pdf, pdf_text])"
   ]
  },
  {
   "cell_type": "code",
   "execution_count": null,
   "metadata": {
    "collapsed": true
   },
   "outputs": [],
   "source": []
  }
 ],
 "metadata": {
  "kernelspec": {
   "display_name": "Python 3",
   "language": "python",
   "name": "python3"
  },
  "language_info": {
   "codemirror_mode": {
    "name": "ipython",
    "version": 3
   },
   "file_extension": ".py",
   "mimetype": "text/x-python",
   "name": "python",
   "nbconvert_exporter": "python",
   "pygments_lexer": "ipython3",
   "version": "3.6.2"
  }
 },
 "nbformat": 4,
 "nbformat_minor": 2
}
